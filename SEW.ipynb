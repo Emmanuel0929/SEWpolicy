{
 "cells": [
  {
   "cell_type": "markdown",
   "metadata": {
    "collapsed": true,
    "pycharm": {
     "name": "#%% md\n"
    }
   },
   "source": [
    "## 问题描述\n",
    "\n",
    "在每一个时间步$t$，一个决策制定者需要在给定一个观测变量$x_t$（例如疫情感染人数）的基础上预测一个标签$y_t$（例如对原始预测的修正offset），其中观测变量$x_t$来源于其他物理或动力学模型（例如疫情扩散模型SIR）\n",
    "\n",
    "假设观测变量序列$X_t$原始服从相互独立的[0,1]均匀分布，实际观测变量与标签（$(x_t,y_t)$对）的函数关系为$h$，有$y_t=h(x_t)$，使用 SEW 策略去学习此函数$h$\n",
    "\n",
    "假设时段数为$T=5000$，分别有三种函数$h$的形式：\n",
    "* 三次函数，$h(x)=x^3$\n",
    "* 阈值函数，$h(x)=\\bold{1}[x>0.5]$\n",
    "* 分段函数:$h(x)=\\frac{2}{3}\\cdot \\bold{1}[x\\in (0.25,0.5)] + \\frac{1}{3}\\cdot \\bold{1}[x\\in (0.5,0.75)]+ \\bold{1}[x\\in (0.75,1)]$\n"
   ]
  },
  {
   "cell_type": "code",
   "execution_count": 34,
   "outputs": [],
   "source": [
    "import math\n",
    "import numpy as np\n",
    "import matplotlib.pyplot as plt"
   ],
   "metadata": {
    "collapsed": false,
    "pycharm": {
     "name": "#%%\n"
    }
   }
  },
  {
   "cell_type": "code",
   "execution_count": 5,
   "outputs": [],
   "source": [
    "# 定义三种函数\n",
    "def H1(x):\n",
    "    return math.pow(x,3)\n",
    "\n",
    "def H2(x):\n",
    "    if x > 0.5:\n",
    "        return 1\n",
    "    else:\n",
    "        return 0\n",
    "\n",
    "def H3(x):\n",
    "    if x >= 0.25 and x< 0.5:\n",
    "        return 2/3\n",
    "    elif x >= 0.5 and x < 0.75:\n",
    "        return 1/3\n",
    "    elif x >= 0.75 and x < 1:\n",
    "        return 1\n",
    "    else:\n",
    "        return 0\n",
    "\n",
    "def InitializeK(T):\n",
    "     #依据论文定义\n",
    "    return math.ceil(math.pow(T,1/3)/(4*math.pow(math.log(T+1),1/3)))\n",
    "\n",
    "#向量化函数\n",
    "def VectorizeFun(H):\n",
    "    return np.vectorize(H)"
   ],
   "metadata": {
    "collapsed": false,
    "pycharm": {
     "name": "#%%\n"
    }
   }
  },
  {
   "cell_type": "code",
   "execution_count": 44,
   "outputs": [],
   "source": [
    "#SEW Policy\n",
    "def SEW(T,real_X,real_Y):\n",
    "    # 初始化 K\n",
    "    K = InitializeK(T)\n",
    "    Ts = [t+1 for t in range(T)]\n",
    "    # 生成实际的观测变量Xt与标签Yt\n",
    "    history_x = []\n",
    "    history_y = []\n",
    "    Predict_Ys = []\n",
    "    for t_index,t in enumerate(Ts):\n",
    "        #最后一个时段时跳出\n",
    "        #观测xt\n",
    "        xt = real_X[t_index]\n",
    "        history_x.append(xt)\n",
    "        #生成未来xt的预测\n",
    "        if t_index >= T-1:\n",
    "            xt_all = np.array(history_x)\n",
    "        else:\n",
    "            predict_x = np.random.uniform(size=T-(t_index+1))\n",
    "            assert len(predict_x) + len(history_x) == T\n",
    "            xt_all = np.concatenate((np.array(history_x),predict_x))\n",
    "        #将对xt的观测与预测升序排列\n",
    "        z=np.sort(xt_all)\n",
    "        #获得升序排列的索引\n",
    "        sigma = np.argsort(xt_all)\n",
    "        #找到升序后对应xt的索引值\n",
    "        i = int(np.where(z==xt)[0]) + 1\n",
    "        Usk = {}\n",
    "        for s_index,s in enumerate(Ts):\n",
    "            for k in range(K+1):\n",
    "                if z[s_index] in history_x[0:-1]:\n",
    "                    Usk[(s,k)] = math.exp(\n",
    "                        -1*\n",
    "                        ((k/K-history_y[sigma[s_index]])**2)/2\n",
    "                    )\n",
    "                else:\n",
    "                    Usk[(s,k)] = 1\n",
    "        Wsk = {}\n",
    "        Vsk = {}\n",
    "        for k in range(K+1):\n",
    "            Wsk[(1,k)] = 1\n",
    "            Vsk[(T,k)] = 1\n",
    "\n",
    "        for s in range(1,i):\n",
    "            for k in range(K+1):\n",
    "                if k == 0:\n",
    "                    Wsk[(s+1,k)] = Usk[(s,k)] * Wsk[(s,k)]\n",
    "                else:\n",
    "                    temp = 0\n",
    "                    for j in range(k):\n",
    "                        temp += Usk[(s,j)] * Wsk[(s,j)]\n",
    "                    Wsk[(s+1,k)] = temp\n",
    "\n",
    "        for s in range(T,i,-1):\n",
    "            for k in range(K+1):\n",
    "                if k == K:\n",
    "                    Vsk[(s-1,k)] = Usk[(s,k)] * Vsk[(s,k)]\n",
    "                else:\n",
    "                    temp = 0\n",
    "                    for j in range(k,K):\n",
    "                        temp += Usk[(s,j)] * Vsk[(s,j)]\n",
    "                    Vsk[(s-1,k)] = temp\n",
    "        up = 0\n",
    "        down = 0\n",
    "        for k in range(K+1):\n",
    "            up += (k/K)*Wsk[(i,k)]*Vsk[(i,k)]\n",
    "            down += Wsk[(i,k)]*Vsk[(i,k)]\n",
    "        PredictY = up/down\n",
    "        Predict_Ys.append(PredictY)\n",
    "\n",
    "        #观测yt,并将其添加到数据集中\n",
    "        yt = real_Y[t_index]\n",
    "        history_y.append(yt)\n",
    "        if t % (T/10) == 0:\n",
    "            print(\"当前为时段{}\".format(t))\n",
    "            print(\"当前预测值为{}\".format(PredictY))\n",
    "            print(\"当前真实值为{}\".format(yt))\n",
    "            print(\"当前误差为{}\".format(math.pow((yt-PredictY),2)))\n",
    "    return Predict_Ys"
   ],
   "metadata": {
    "collapsed": false,
    "pycharm": {
     "name": "#%%\n"
    }
   }
  },
  {
   "cell_type": "code",
   "execution_count": 51,
   "outputs": [
    {
     "name": "stdout",
     "output_type": "stream",
     "text": [
      "当前为时段500\n",
      "当前预测值为2.3191356530703644e-05\n",
      "当前真实值为0.0333306398326666\n",
      "当前误差为0.001109386123990447\n",
      "当前为时段1000\n",
      "当前预测值为0.00024497151690848007\n",
      "当前真实值为0.11083160169718739\n",
      "当前误差为0.012229402774629774\n",
      "当前为时段1500\n",
      "当前预测值为0.00031672643668209866\n",
      "当前真实值为0.12477247106870097\n",
      "当前误差为0.015489232371910295\n",
      "当前为时段2000\n",
      "当前预测值为6.532020389790798e-19\n",
      "当前真实值为0.0009528752615144995\n",
      "当前误差为9.079712640063245e-07\n",
      "当前为时段2500\n",
      "当前预测值为0.12070040923990095\n",
      "当前真实值为0.7175804291500015\n",
      "当前误差为0.35626575816788203\n",
      "当前为时段3000\n",
      "当前预测值为2.229399126886774e-26\n",
      "当前真实值为0.0011196544215815545\n",
      "当前误差为1.2536260237671254e-06\n",
      "当前为时段3500\n",
      "当前预测值为6.6551931677365545e-18\n",
      "当前真实值为0.016045345585559333\n",
      "当前误差为0.00025745311496002814\n",
      "当前为时段4000\n",
      "当前预测值为0.006648613173514406\n",
      "当前真实值为0.24598291035703834\n",
      "当前误差为0.05728090580833136\n",
      "当前为时段4500\n",
      "当前预测值为3.7081850687252025e-05\n",
      "当前真实值为0.11158299569033957\n",
      "当前误差为0.012442490894323139\n",
      "当前为时段5000\n",
      "当前预测值为6.74612238147472e-06\n",
      "当前真实值为0.10208867658983191\n",
      "当前误差为0.010420720527961386\n"
     ]
    }
   ],
   "source": [
    "T = 5000\n",
    "real_X = np.random.uniform(size=T)\n",
    "real_Y = VectorizeFun(H1)(real_X)\n",
    "\n",
    "Predict_Ys = SEW(T,real_X,real_Y)"
   ],
   "metadata": {
    "collapsed": false,
    "pycharm": {
     "name": "#%%\n"
    }
   }
  },
  {
   "cell_type": "code",
   "execution_count": 59,
   "outputs": [
    {
     "data": {
      "text/plain": "<Figure size 432x288 with 1 Axes>",
      "image/png": "[encoded data removed]"
     },
     "metadata": {
      "needs_background": "light"
     },
     "output_type": "display_data"
    }
   ],
   "source": [
    "#为了证明regret与t^(1/3)同阶，将累积平均regrets除以t^(1/3)\n",
    "regrets = (np.square(real_Y - np.array(Predict_Ys)).cumsum()/ np.array([t+1 for t in range(T)]))/np.power(np.array([t+1 for t in range(T)]),1/3)\n",
    "\n",
    "plt.plot([t+1 for t in range(T)],regrets)\n",
    "\n",
    "plt.xlabel(\"Time Step\")\n",
    "plt.ylabel(\"Avg. regret.\")\n",
    "plt.show()"
   ],
   "metadata": {
    "collapsed": false,
    "pycharm": {
     "name": "#%%\n"
    }
   }
  },
  {
   "cell_type": "code",
   "execution_count": 60,
   "outputs": [
    {
     "name": "stdout",
     "output_type": "stream",
     "text": [
      "当前为时段500\n",
      "当前预测值为2.2360394089950288e-05\n",
      "当前真实值为0\n",
      "当前误差为4.999872238578838e-10\n",
      "当前为时段1000\n",
      "当前预测值为0.999994593514644\n",
      "当前真实值为0\n",
      "当前误差为0.9999891870585181\n",
      "当前为时段1500\n",
      "当前预测值为1.0\n",
      "当前真实值为0\n",
      "当前误差为1.0\n",
      "当前为时段2000\n",
      "当前预测值为6.747492569379279e-22\n",
      "当前真实值为0\n",
      "当前误差为4.552865597382858e-43\n",
      "当前为时段2500\n",
      "当前预测值为0.9999983219566261\n",
      "当前真实值为1\n",
      "当前误差为2.815829564758574e-12\n",
      "当前为时段3000\n",
      "当前预测值为1.824255220548066e-31\n",
      "当前真实值为0\n",
      "当前误差为3.3279071096968727e-62\n",
      "当前为时段3500\n",
      "当前预测值为1.7402039567999675e-23\n",
      "当前真实值为0\n",
      "当前误差为3.028309811262263e-46\n",
      "当前为时段4000\n",
      "当前预测值为1.0\n",
      "当前真实值为1\n",
      "当前误差为0.0\n",
      "当前为时段4500\n",
      "当前预测值为1.0\n",
      "当前真实值为0\n",
      "当前误差为1.0\n",
      "当前为时段5000\n",
      "当前预测值为1.0\n",
      "当前真实值为0\n",
      "当前误差为1.0\n"
     ]
    }
   ],
   "source": [
    "real_Y2 = VectorizeFun(H2)(real_X)\n",
    "\n",
    "Predict_Y2s = SEW(T,real_X,real_Y2)"
   ],
   "metadata": {
    "collapsed": false,
    "pycharm": {
     "name": "#%%\n"
    }
   }
  },
  {
   "cell_type": "code",
   "execution_count": 62,
   "outputs": [
    {
     "data": {
      "text/plain": "<Figure size 432x288 with 1 Axes>",
      "image/png": "[encoded data removed]"
     },
     "metadata": {
      "needs_background": "light"
     },
     "output_type": "display_data"
    }
   ],
   "source": [
    "#为了证明regret与t^(1/3)同阶，将累积平均regrets除以t^(1/3)\n",
    "regrets2 = (np.square(real_Y2 - np.array(Predict_Y2s)).cumsum()/ np.array([t+1 for t in range(T)]))/np.power(np.array([t+1 for t in range(T)]),1/3)\n",
    "\n",
    "plt.plot([t+1 for t in range(T)],regrets2)\n",
    "\n",
    "plt.xlabel(\"Time Step\")\n",
    "plt.ylabel(\"Avg. regret.\")\n",
    "plt.show()"
   ],
   "metadata": {
    "collapsed": false,
    "pycharm": {
     "name": "#%%\n"
    }
   }
  },
  {
   "cell_type": "code",
   "execution_count": 61,
   "outputs": [
    {
     "name": "stdout",
     "output_type": "stream",
     "text": [
      "当前为时段500\n",
      "当前预测值为0.0036582132035446104\n",
      "当前真实值为0.6666666666666666\n",
      "当前误差为0.4395802093635608\n",
      "当前为时段1000\n",
      "当前预测值为0.011907302609054786\n",
      "当前真实值为0.6666666666666666\n",
      "当前误差为0.42870982482112824\n",
      "当前为时段1500\n",
      "当前预测值为0.007269815081694532\n",
      "当前真实值为0.6666666666666666\n",
      "当前误差为0.4348042078801737\n",
      "当前为时段2000\n",
      "当前预测值为2.3141434412120973e-10\n",
      "当前真实值为0.0\n",
      "当前误差为5.355259866504968e-20\n",
      "当前为时段2500\n",
      "当前预测值为0.9999992415015057\n",
      "当前真实值为1.0\n",
      "当前误差为5.753199659259143e-13\n",
      "当前为时段3000\n",
      "当前预测值为1.269353423516743e-13\n",
      "当前真实值为0.0\n",
      "当前误差为1.6112581137936758e-26\n",
      "当前为时段3500\n",
      "当前预测值为0.03262891252018972\n",
      "当前真实值为0.6666666666666666\n",
      "当前误差为0.4020038736831083\n",
      "当前为时段4000\n",
      "当前预测值为0.013683379151255014\n",
      "当前真实值为0.3333333333333333\n",
      "当前误差为0.10217609320860477\n",
      "当前为时段4500\n",
      "当前预测值为0.0441481038031403\n",
      "当前真实值为0.6666666666666666\n",
      "当前误差为0.38752936110967023\n",
      "当前为时段5000\n",
      "当前预测值为0.04436232998987573\n",
      "当前真实值为0.6666666666666666\n",
      "当前误差为0.3872626874467407\n"
     ]
    }
   ],
   "source": [
    "real_Y3 = VectorizeFun(H3)(real_X)\n",
    "\n",
    "Predict_Y3s = SEW(T,real_X,real_Y3)"
   ],
   "metadata": {
    "collapsed": false,
    "pycharm": {
     "name": "#%%\n"
    }
   }
  },
  {
   "cell_type": "code",
   "execution_count": 63,
   "outputs": [
    {
     "data": {
      "text/plain": "<Figure size 432x288 with 1 Axes>",
      "image/png": "[encoded data removed]"
     },
     "metadata": {
      "needs_background": "light"
     },
     "output_type": "display_data"
    }
   ],
   "source": [
    "#为了证明regret与t^(1/3)同阶，将累积平均regrets除以t^(1/3)\n",
    "regrets3 = (np.square(real_Y3 - np.array(Predict_Y3s)).cumsum()/ np.array([t+1 for t in range(T)]))/np.power(np.array([t+1 for t in range(T)]),1/3)\n",
    "\n",
    "plt.plot([t+1 for t in range(T)],regrets3)\n",
    "\n",
    "plt.xlabel(\"Time Step\")\n",
    "plt.ylabel(\"Avg. regret.\")\n",
    "plt.show()"
   ],
   "metadata": {
    "collapsed": false,
    "pycharm": {
     "name": "#%%\n"
    }
   }
  },
  {
   "cell_type": "code",
   "execution_count": 73,
   "outputs": [
    {
     "data": {
      "text/plain": "<Figure size 432x288 with 1 Axes>",
      "image/png": "[encoded data removed]"
     },
     "metadata": {
      "needs_background": "light"
     },
     "output_type": "display_data"
    }
   ],
   "source": [
    "plt.plot([t+1 for t in range(T)],real_Y,label=\"real\")\n",
    "plt.plot([t+1 for t in range(T)],Predict_Ys,label=\"predict\")\n",
    "plt.ylim([0,3])\n",
    "plt.legend()\n",
    "plt.show()"
   ],
   "metadata": {
    "collapsed": false,
    "pycharm": {
     "name": "#%%\n"
    }
   }
  },
  {
   "cell_type": "code",
   "execution_count": 70,
   "outputs": [
    {
     "data": {
      "text/plain": "<Figure size 432x288 with 1 Axes>",
      "image/png": "[encoded data removed]"
     },
     "metadata": {
      "needs_background": "light"
     },
     "output_type": "display_data"
    }
   ],
   "source": [
    "plt.plot([t+1 for t in range(T)],real_Y2,label=\"real\")\n",
    "plt.plot([t+1 for t in range(T)],Predict_Y2s,label=\"predict\")\n",
    "plt.ylim([0,3])\n",
    "plt.legend()\n",
    "plt.show()"
   ],
   "metadata": {
    "collapsed": false,
    "pycharm": {
     "name": "#%%\n"
    }
   }
  },
  {
   "cell_type": "code",
   "execution_count": 71,
   "outputs": [
    {
     "data": {
      "text/plain": "<Figure size 432x288 with 1 Axes>",
      "image/png": "[encoded data removed]"
     },
     "metadata": {
      "needs_background": "light"
     },
     "output_type": "display_data"
    }
   ],
   "source": [
    "plt.plot([t+1 for t in range(T)],real_Y3,label=\"real\")\n",
    "plt.plot([t+1 for t in range(T)],Predict_Y3s,label=\"predict\")\n",
    "plt.ylim([0,3])\n",
    "plt.legend()\n",
    "plt.show()"
   ],
   "metadata": {
    "collapsed": false,
    "pycharm": {
     "name": "#%%\n"
    }
   }
  },
  {
   "cell_type": "code",
   "execution_count": null,
   "outputs": [],
   "source": [],
   "metadata": {
    "collapsed": false,
    "pycharm": {
     "name": "#%%\n"
    }
   }
  }
 ],
 "metadata": {
  "kernelspec": {
   "display_name": "Python 3",
   "language": "python",
   "name": "python3"
  },
  "language_info": {
   "codemirror_mode": {
    "name": "ipython",
    "version": 2
   },
   "file_extension": ".py",
   "mimetype": "text/x-python",
   "name": "python",
   "nbconvert_exporter": "python",
   "pygments_lexer": "ipython2",
   "version": "2.7.6"
  }
 },
 "nbformat": 4,
 "nbformat_minor": 0
}